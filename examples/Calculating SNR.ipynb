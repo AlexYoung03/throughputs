{
 "cells": [
  {
   "cell_type": "markdown",
   "metadata": {},
   "source": [
    "This ipython notebook demonstrates how to calculate photometric (optimal psf-weighted) SNR for sources observed with LSST. \n",
    "\n",
    "It uses the LSST [throughputs](https://github.com/lsst/throughputs) curves, together with the LSST [sims_photUtils](https://stash.lsstcorp.org/projects/SIM/repos/sims_photutils/browse) package, to calculate the SNR for any spectrum. \n",
    "\n",
    "With an eye toward turning this into a more generalized SNR calculator, an overview of the process (starting from the spectrum) is:\n",
    "* Set the desired magnitude (in a standardized throughput curve) for the source.\n",
    "* Generate the throughput curves in all filters, for the airmass desired.\n",
    "* Set the sky SED (for now we just use dark, zenith sky).\n",
    "* Calculate the SNR. \n",
    "\n",
    "---\n",
    "\n",
    "This notebook assumes that the `throughputs` and `sims_photUtils` packages have been installed and setup. We can then import the necessary packages:"
   ]
  },
  {
   "cell_type": "code",
   "execution_count": 1,
   "metadata": {
    "collapsed": false
   },
   "outputs": [],
   "source": [
    "import os\n",
    "%matplotlib inline\n",
    "import matplotlib.pyplot as plt\n",
    "from lsst.sims.photUtils import Bandpass\n",
    "from lsst.sims.photUtils import Sed\n",
    "from lsst.sims.photUtils import SignalToNoise\n",
    "from lsst.sims.photUtils import PhotometricParameters"
   ]
  },
  {
   "cell_type": "markdown",
   "metadata": {},
   "source": [
    "---\n",
    "<b>Read in the spectra.</b> \n",
    "\n",
    "I put together a few SEDs that cover a fairly wide range: elliptical and spiral galaxies, blue and red stars, and a quasar. We'll read them all into `Sed` objects, and set the quasar to have a redshift of 3.5. These SEDS are available as a [tar ball](http://www.astro.washington.edu/users/lynnej/sample_seds.tar.gz). \n",
    "Wherever you place this directory, set `sedDir` to point to that location. "
   ]
  },
  {
   "cell_type": "code",
   "execution_count": 2,
   "metadata": {
    "collapsed": false
   },
   "outputs": [
    {
     "name": "stdout",
     "output_type": "stream",
     "text": [
      "['Ell2_template_norm.sed.dat', 'Sa_template_norm.sed.dat', 'Sdm_template_norm.sed0.dat', 'km10_4500.fits_g45', 'km10_5250.fits_g45', 'km10_6000.fits_g45', 'km10_6500.fits_g45', 'km10_7250.fits_g45', 'm3.0Full.dat', 'quasar.dat']\n"
     ]
    }
   ],
   "source": [
    "sedDir = '/Users/lynnej/seds/sample_seds'\n",
    "filenames = !ls $sedDir\n",
    "print filenames"
   ]
  },
  {
   "cell_type": "code",
   "execution_count": 3,
   "metadata": {
    "collapsed": false
   },
   "outputs": [],
   "source": [
    "# Now we'll read in each of those individual seds, into a Sed object. We'll also redshift the quasar.\n",
    "seds = {}\n",
    "z=3.5\n",
    "for s in filenames:\n",
    "    seds[s] = Sed()\n",
    "    seds[s].readSED_flambda(os.path.join(sedDir, s))\n",
    "if 'quasar.dat' in seds:\n",
    "    seds['quasar.dat'].redshiftSED(z)"
   ]
  },
  {
   "cell_type": "markdown",
   "metadata": {},
   "source": [
    "---\n",
    "<b>Read the standard throughput curves</b>.\n",
    "\n",
    "First, get the names of the directories containing the baseline throughput curves and a set of standard atmosphere curves at a range of airmass (also from the throughputs package). We'll also take a peek at the contents of these directories, in case you haven't seen them before."
   ]
  },
  {
   "cell_type": "code",
   "execution_count": 4,
   "metadata": {
    "collapsed": false
   },
   "outputs": [
    {
     "name": "stdout",
     "output_type": "stream",
     "text": [
      "total 7128\r\n",
      "-rw-r--r--  1 lynnej  staff   34015 Feb 23 21:08 LSSTfilters.png\r\n",
      "-rw-r--r--  1 lynnej  staff    5720 Feb 23 20:41 README.md\r\n",
      "-rw-r--r--  1 lynnej  staff  179331 Feb 23 20:33 atmos_10.dat\r\n",
      "-rw-r--r--  1 lynnej  staff  173902 Feb 23 20:33 atmos_std.dat\r\n",
      "-rw-r--r--  1 lynnej  staff  170296 Feb 23 20:33 darksky.dat\r\n",
      "-rw-r--r--  1 lynnej  staff  149408 Feb 23 20:33 detector.dat\r\n",
      "-rw-r--r--  1 lynnej  staff  106649 Feb 23 20:33 filter_g.dat\r\n",
      "-rw-r--r--  1 lynnej  staff  104043 Feb 23 20:33 filter_i.dat\r\n",
      "-rw-r--r--  1 lynnej  staff  105365 Feb 23 20:33 filter_r.dat\r\n",
      "-rw-r--r--  1 lynnej  staff   98123 Feb 23 20:33 filter_u.dat\r\n",
      "-rw-r--r--  1 lynnej  staff  107815 Feb 23 20:33 filter_y.dat\r\n",
      "-rw-r--r--  1 lynnej  staff  101689 Feb 23 20:33 filter_z.dat\r\n",
      "-rw-r--r--  1 lynnej  staff  106630 Feb 23 20:33 hardware_g.dat\r\n",
      "-rw-r--r--  1 lynnej  staff  104019 Feb 23 20:33 hardware_i.dat\r\n",
      "-rw-r--r--  1 lynnej  staff  105283 Feb 23 20:33 hardware_r.dat\r\n",
      "-rw-r--r--  1 lynnej  staff   98561 Feb 23 20:33 hardware_u.dat\r\n",
      "-rw-r--r--  1 lynnej  staff  108788 Feb 23 20:33 hardware_y.dat\r\n",
      "-rw-r--r--  1 lynnej  staff  101687 Feb 23 20:33 hardware_z.dat\r\n",
      "-rw-r--r--  1 lynnej  staff  173748 Feb 23 20:33 lens1.dat\r\n",
      "-rw-r--r--  1 lynnej  staff  173790 Feb 23 20:33 lens2.dat\r\n",
      "-rw-r--r--  1 lynnej  staff  173718 Feb 23 20:33 lens3.dat\r\n",
      "-rw-r--r--  1 lynnej  staff  155763 Feb 23 20:33 m1.dat\r\n",
      "-rw-r--r--  1 lynnej  staff  161067 Feb 23 20:33 m2.dat\r\n",
      "-rw-r--r--  1 lynnej  staff  155763 Feb 23 20:33 m3.dat\r\n",
      "-rw-r--r--  1 lynnej  staff  106721 Feb 23 20:33 total_g.dat\r\n",
      "-rw-r--r--  1 lynnej  staff  104044 Feb 23 20:33 total_i.dat\r\n",
      "-rw-r--r--  1 lynnej  staff  105353 Feb 23 20:33 total_r.dat\r\n",
      "-rw-r--r--  1 lynnej  staff   98934 Feb 23 20:33 total_u.dat\r\n",
      "-rw-r--r--  1 lynnej  staff  108845 Feb 23 20:33 total_y.dat\r\n",
      "-rw-r--r--  1 lynnej  staff  101731 Feb 23 20:33 total_z.dat\r\n"
     ]
    }
   ],
   "source": [
    "throughputsDir = os.getenv('LSST_THROUGHPUTS_BASELINE')\n",
    "atmosDir = os.path.join(os.getenv('THROUGHPUTS_DIR'), 'atmos')\n",
    "!ls -l $throughputsDir\n",
    "#!ls -l $atmosDir\n",
    "filterlist = ('u', 'g', 'r', 'i', 'z', 'y')\n",
    "filtercolors = {'u':'b', 'g':'c', 'r':'g', 'i':'y', 'z':'r', 'y':'m'}"
   ]
  },
  {
   "cell_type": "markdown",
   "metadata": {},
   "source": [
    "Read in the set of throughput curves we'll use as our \"standard\". These are the 'standard' LSST total throughput curves and use an X=1.2 atmosphere (with aerosols) together with the standard hardware components (with time-average losses). "
   ]
  },
  {
   "cell_type": "code",
   "execution_count": 5,
   "metadata": {
    "collapsed": false
   },
   "outputs": [],
   "source": [
    "lsst_std = {}\n",
    "for f in filterlist:\n",
    "    lsst_std[f] = Bandpass()\n",
    "    lsst_std[f].readThroughput(os.path.join(throughputsDir, 'total_'+f+'.dat'))"
   ]
  },
  {
   "cell_type": "markdown",
   "metadata": {},
   "source": [
    "---\n",
    "<b>Set the desired magnitude.</b>\n",
    "\n",
    "Use these standard throughput curves to set the desired magnitude for each SED in the desired reference bandpass. This is the step where the user decides the magnitude of the source they want to use to calculate SNR."
   ]
  },
  {
   "cell_type": "code",
   "execution_count": 6,
   "metadata": {
    "collapsed": false
   },
   "outputs": [],
   "source": [
    "stdFilter = 'r'\n",
    "stdMag = 24.0\n",
    "for s in seds:\n",
    "    fluxNorm = seds[s].calcFluxNorm(stdMag, lsst_std[stdFilter])\n",
    "    seds[s].multiplyFluxNorm(fluxNorm)"
   ]
  },
  {
   "cell_type": "markdown",
   "metadata": {},
   "source": [
    "Pretty plot #1: plot the SEDs."
   ]
  },
  {
   "cell_type": "code",
   "execution_count": 7,
   "metadata": {
    "collapsed": false
   },
   "outputs": [
    {
     "data": {
      "text/plain": [
       "<matplotlib.legend.Legend at 0x111f77a50>"
      ]
     },
     "execution_count": 7,
     "metadata": {},
     "output_type": "execute_result"
    },
    {
     "data": {
      "image/png": "[encoded data removed]",
      "text/plain": [
       "<matplotlib.figure.Figure at 0x10f659650>"
      ]
     },
     "metadata": {},
     "output_type": "display_data"
    }
   ],
   "source": [
    "for s in seds:\n",
    "    plt.plot(seds[s].wavelen, seds[s].flambda*seds[s].wavelen, label='%s' %(s))\n",
    "plt.xlabel('Wavelength (nm)')\n",
    "plt.ylabel('$\\lambda F_\\lambda$')\n",
    "plt.xlim(300, 1100)\n",
    "plt.legend(loc=(0.98, 0.2), fontsize='smaller', numpoints=1, fancybox=True)"
   ]
  },
  {
   "cell_type": "markdown",
   "metadata": {},
   "source": [
    "---\n",
    "<b>Read in the (non-standard) throughput components</b>\n",
    "\n",
    "Read in the various components that we will need, in order to generate the non-standard throughput curves at arbitrary airmass. \n",
    "First, the system hardware throughput components, as we will need the hardware alone to calculate SNR anyway. (see [note (1)](#hardware_sky) below for more information). "
   ]
  },
  {
   "cell_type": "code",
   "execution_count": 8,
   "metadata": {
    "collapsed": false
   },
   "outputs": [],
   "source": [
    "lsst_system = {}\n",
    "for f in filterlist:\n",
    "    lsst_system[f] = Bandpass()\n",
    "    lsst_system[f].readThroughputList(['detector.dat', 'lens1.dat', 'lens2.dat', 'lens3.dat', \n",
    "                                       'm1.dat', 'm2.dat', 'm3.dat', 'filter_'+f+'.dat'], \n",
    "                                        rootDir=throughputsDir)"
   ]
  },
  {
   "cell_type": "markdown",
   "metadata": {},
   "source": [
    "Then read in the atmosphere, so we can multiply it into the system hardware throughputs. This lets us generate the total throughput curves, using a wider variety of atmosphere curves at varying airmass. (The standard total throughput curves use X=1.2, for now we'll use X=1.0 here)."
   ]
  },
  {
   "cell_type": "code",
   "execution_count": 9,
   "metadata": {
    "collapsed": false
   },
   "outputs": [],
   "source": [
    "atmosphere = Bandpass()\n",
    "X = 1.0\n",
    "atmosphere.readThroughput(os.path.join(atmosDir, 'atmos_%d.dat' %(X*10)))"
   ]
  },
  {
   "cell_type": "markdown",
   "metadata": {},
   "source": [
    "Calculate the total (non-standard) throughput curves, including the atmosphere. "
   ]
  },
  {
   "cell_type": "code",
   "execution_count": 10,
   "metadata": {
    "collapsed": false
   },
   "outputs": [],
   "source": [
    "lsst_total = {}\n",
    "for f in filterlist:\n",
    "    wavelen, sb = lsst_system[f].multiplyThroughputs(atmosphere.wavelen, atmosphere.sb)\n",
    "    lsst_total[f] = Bandpass(wavelen=wavelen, sb=sb)"
   ]
  },
  {
   "cell_type": "markdown",
   "metadata": {},
   "source": [
    "Pretty plot #2, plot the throughput curves + atmosphere.  The dotted lines are the hardware-only throughputs, the solid lines are total system throughputs including atmosphere."
   ]
  },
  {
   "cell_type": "code",
   "execution_count": 11,
   "metadata": {
    "collapsed": false
   },
   "outputs": [
    {
     "data": {
      "text/plain": [
       "<matplotlib.text.Text at 0x112911a90>"
      ]
     },
     "execution_count": 11,
     "metadata": {},
     "output_type": "execute_result"
    },
    {
     "data": {
      "image/png": "[encoded data removed]",
      "text/plain": [
       "<matplotlib.figure.Figure at 0x10faa8710>"
      ]
     },
     "metadata": {},
     "output_type": "display_data"
    }
   ],
   "source": [
    "for f in filterlist:\n",
    "    plt.plot(lsst_total[f].wavelen, lsst_total[f].sb,  linestyle='-', color=filtercolors[f], label='%s' %(f))\n",
    "    plt.plot(lsst_system[f].wavelen, lsst_system[f].sb, linestyle=':', color=filtercolors[f])\n",
    "plt.plot(atmosphere.wavelen, atmosphere.sb, 'k:', label='X =%.1f atmos' %(X))\n",
    "plt.legend(loc=(0.85, 0.5), fontsize='smaller', fancybox=True, numpoints=1)\n",
    "plt.xlabel('Wavelength (nm)')\n",
    "plt.ylabel('Sb (0-1)')\n",
    "plt.title('System throughput')"
   ]
  },
  {
   "cell_type": "markdown",
   "metadata": {},
   "source": [
    "---\n",
    "<b>Calculate SNR</b>"
   ]
  },
  {
   "cell_type": "markdown",
   "metadata": {},
   "source": [
    "The SNR of a source depends on the sky background, as well as properties of the telescope and camera. We can use the default values for LSST telescope and camera properties automatically. At the moment, the only sky spectrum we have easily available is the dark sky zenith spectrum, from the [$LSST_THROUGHPUTS_BASELINE/darksky.dat](https://github.com/lsst/throughputs/blob/master/baseline/darksky.dat) file. This spectra is calibrated to have the appropriate magnitudes in the LSST bandpasses under dark sky, zenith conditions."
   ]
  },
  {
   "cell_type": "code",
   "execution_count": 12,
   "metadata": {
    "collapsed": false
   },
   "outputs": [],
   "source": [
    "darksky = Sed()\n",
    "darksky.readSED_flambda(os.path.join(throughputsDir, 'darksky.dat'))"
   ]
  },
  {
   "cell_type": "markdown",
   "metadata": {},
   "source": [
    "Calculate the SNR, assuming optimal measurement over the PSF. This means we can choose the PSF as well.<br>\n",
    "`Sed` method `calcSNR_psf` accepts an instantiation of the `PhotometricParameters` class, which carries values for readnoise, platescale, gain, number of exposures, etc, set to defaults appropriate for general LSST purposes (and assuming 30 second visits, consisting of two 15 second exposures). "
   ]
  },
  {
   "cell_type": "code",
   "execution_count": 25,
   "metadata": {
    "collapsed": false
   },
   "outputs": [],
   "source": [
    "# Set up the photometric parameters for LSST\n",
    "photParams = PhotometricParameters()\n",
    "# Set up the seeing. \"seeing\" traditional = FWHMgeom in our terms \n",
    "#  (i.e. the physical size of a double-gaussian or von Karman PSF)\n",
    "# But we use the equivalent FWHM of a single gaussian in the SNR calculation, so convert.\n",
    "seeing = 0.7\n",
    "FWHMeff = SignalToNoise.FWHMgeom2FWHMeff(seeing)\n",
    "# Calculate SNR for all seds in all filters.\n",
    "snr = {}\n",
    "for s in seds:\n",
    "    snr[s] = {}\n",
    "    for f in filterlist:\n",
    "        snr[s][f] = SignalToNoise.calcSNR_sed(seds[s], lsst_total[f], darksky, lsst_system[f], \n",
    "                                              photParams, FWHMeff=FWHMeff, verbose=False)"
   ]
  },
  {
   "cell_type": "code",
   "execution_count": 26,
   "metadata": {
    "collapsed": false
   },
   "outputs": [
    {
     "name": "stdout",
     "output_type": "stream",
     "text": [
      "SNR in r band\n",
      "For Nexp 2.0 of time 15.0: \n",
      "Counts from source: 617.78  Counts from sky: 354.51\n",
      "FWHMeff: 0.79('')  Neff pixels: 35.205(pix)\n",
      "Noise from sky: 12.42 Noise from instrument: 4.35\n",
      "Noise from source: 16.39\n",
      " Total Signal: 617.78   Total Noise: 79.75    SNR: 7.75\n",
      "\n",
      "SNR in z band\n",
      "For Nexp 2.0 of time 15.0: \n",
      "Counts from source: 1610.95  Counts from sky: 751.57\n",
      "FWHMeff: 0.79('')  Neff pixels: 35.205(pix)\n",
      "Noise from sky: 18.08 Noise from instrument: 4.35\n",
      "Noise from source: 26.47\n",
      " Total Signal: 1610.95   Total Noise: 113.45    SNR: 14.20\n"
     ]
    }
   ],
   "source": [
    "# We can investigate the SNR steps a little closer for a single object, let's use the Mdwarf.\n",
    "s = 'm3.0Full.dat'\n",
    "f = 'r'\n",
    "print \"SNR in %s band\" % f\n",
    "_ = SignalToNoise.calcSNR_sed(seds[s], lsst_total[f], darksky, lsst_system[f], photParams, FWHMeff, verbose=True)\n",
    "print ''\n",
    "f = 'z'\n",
    "print \"SNR in %s band\" % f\n",
    "_ = SignalToNoise.calcSNR_sed(seds[s], lsst_total[f], darksky, lsst_system[f], photParams, FWHMeff, verbose=True)"
   ]
  },
  {
   "cell_type": "code",
   "execution_count": 29,
   "metadata": {
    "collapsed": false
   },
   "outputs": [],
   "source": [
    "# Little function to make a more easily readable table of SNR results for all seds.\n",
    "def _printSNR(snr):\n",
    "    writestring = 'SED'\n",
    "    for i in range(4):\n",
    "        writestring += '\\t'\n",
    "    for f in filterlist:\n",
    "        writestring += '   %s   ' %f\n",
    "    print writestring\n",
    "    for s in seds:\n",
    "        writestring = '%s\\t' %(s)\n",
    "        if len(writestring) < 20:\n",
    "            writestring += '\\t'\n",
    "            if len(writestring) < 20:\n",
    "                writestring += '\\t'\n",
    "        for f in filterlist:\n",
    "            writestring += ' %.2f ' %(snr[s][f])\n",
    "        print writestring"
   ]
  },
  {
   "cell_type": "code",
   "execution_count": 28,
   "metadata": {
    "collapsed": false
   },
   "outputs": [
    {
     "name": "stdout",
     "output_type": "stream",
     "text": [
      "SED\t\t\t\t   u      g      r      i      z      y   \n",
      "m3.0Full.dat\t\t\t 0.18  3.76  7.75  14.83  14.20  7.27 \n",
      "km10_4500.fits_g45\t\t 0.36  5.93  7.76  6.55  4.32  2.00 \n",
      "quasar.dat\t\t\t 0.47  6.68  7.76  5.55  3.41  1.37 \n",
      "km10_7250.fits_g45\t\t 2.06  11.18  7.76  4.82  2.60  1.06 \n",
      "km10_6500.fits_g45\t\t 1.78  9.96  7.76  5.16  2.91  1.20 \n",
      "Sa_template_norm.sed.dat\t 0.53  6.49  7.76  6.72  5.01  2.59 \n",
      "Ell2_template_norm.sed.dat\t 0.89  8.00  7.76  5.90  3.88  1.84 \n",
      "km10_5250.fits_g45\t\t 0.87  7.68  7.76  5.85  3.58  1.57 \n",
      "Sdm_template_norm.sed0.dat\t 1.36  8.68  7.76  6.04  4.21  2.10 \n",
      "km10_6000.fits_g45\t\t 1.48  9.09  7.76  5.41  3.15  1.32 \n"
     ]
    }
   ],
   "source": [
    "_printSNR(snr)"
   ]
  },
  {
   "cell_type": "markdown",
   "metadata": {},
   "source": [
    "Note that the SNR in the r band is the same for all of these objects. This makes sense, as we normalized them all to have the same r band standard magnitudes, and the X=1.0 atmosphere is not hugely different from the X=1.2 standard throughput curves.  However, their SNR in other bandpasses can be quite different depending on the SED of the source. "
   ]
  },
  {
   "cell_type": "markdown",
   "metadata": {},
   "source": [
    "---\n",
    "And it's a bit of a hack, but we could make the same calculation for different sky background values, by scaling the dark sky SED to have different expected magnitudes (i.e. adjust the darksky SED to create different sky brightness). With the upcoming sky brightness code (in progress [here](http://github.com/lsst/sims_skybrightness)), we could use the actual sky SED for any conditions.\n",
    "\n",
    "<a name='hardware_sky'>(1)</a> Notice that I use lsst_system throughputs here, not lsst_total. This is because the sky magnitudes must be calculated using the *system* only, not including the atmosphere. The sky brightness is generated at various points throughout the atmosphere, so should not be propagated through the entire atmosphere when calculating the transmission to the focal plane (unlike sources above the atmosphere). Without doing proper radiative transfer to determine the atmosphere and sky brightness to use, the next best thing is to just use the system minus the atmosphere, and atmosphere-corrected/telescope pupil skybrightness measurements (which are what are usually reported). This is also why we needed to pass the system only throughput curves to calcSNR_sed. "
   ]
  },
  {
   "cell_type": "code",
   "execution_count": 30,
   "metadata": {
    "collapsed": false
   },
   "outputs": [
    {
     "name": "stdout",
     "output_type": "stream",
     "text": [
      "u 22.9542132039\n",
      "g 22.240907157\n",
      "r 21.1978486745\n",
      "i 20.4734429172\n",
      "z 19.5991775087\n",
      "y 18.6323375588\n"
     ]
    }
   ],
   "source": [
    "for f in filterlist:\n",
    "    print f, darksky.calcMag(lsst_system[f])"
   ]
  },
  {
   "cell_type": "code",
   "execution_count": 31,
   "metadata": {
    "collapsed": false
   },
   "outputs": [
    {
     "name": "stdout",
     "output_type": "stream",
     "text": [
      "u 22.2563645294\n",
      "g 21.5430584824\n",
      "r 20.5\n",
      "i 19.7755942427\n",
      "z 18.9013288342\n",
      "y 17.9344888842\n"
     ]
    }
   ],
   "source": [
    "newSkyMag = 20.5\n",
    "newSkyFilter = 'r'\n",
    "fluxNorm = darksky.calcFluxNorm(newSkyMag, lsst_system[newSkyFilter])\n",
    "darksky.multiplyFluxNorm(fluxNorm)\n",
    "for f in filterlist:\n",
    "    print f, darksky.calcMag(lsst_system[f])"
   ]
  },
  {
   "cell_type": "code",
   "execution_count": 37,
   "metadata": {
    "collapsed": false
   },
   "outputs": [
    {
     "name": "stdout",
     "output_type": "stream",
     "text": [
      "SED\t\t\t\t   u      g      r      i      z      y   \n",
      "m3.0Full.dat\t\t\t 0.15  2.89  5.82  11.14  10.57  5.36 \n",
      "km10_4500.fits_g45\t\t 0.32  4.56  5.83  4.88  3.19  1.47 \n",
      "quasar.dat\t\t\t 0.41  5.15  5.84  4.13  2.51  1.00 \n",
      "km10_7250.fits_g45\t\t 1.81  8.68  5.84  3.58  1.92  0.78 \n",
      "km10_6500.fits_g45\t\t 1.56  7.71  5.83  3.84  2.15  0.88 \n",
      "Sa_template_norm.sed.dat\t 0.46  4.99  5.83  5.00  3.70  1.90 \n",
      "Ell2_template_norm.sed.dat\t 0.78  6.18  5.83  4.39  2.86  1.35 \n",
      "km10_5250.fits_g45\t\t 0.76  5.92  5.83  4.35  2.64  1.15 \n",
      "Sdm_template_norm.sed0.dat\t 1.19  6.71  5.83  4.49  3.10  1.54 \n",
      "km10_6000.fits_g45\t\t 1.30  7.03  5.83  4.02  2.32  0.97 \n"
     ]
    }
   ],
   "source": [
    "# Calculate SNR with varied sky brightness\n",
    "photParams = PhotometricParameters()\n",
    "seeing = 0.7\n",
    "FWHMeff = SignalToNoise.FWHMgeom2FWHMeff(seeing)\n",
    "snr = {}\n",
    "for s in seds:\n",
    "    snr[s] = {}\n",
    "    for f in filterlist:\n",
    "        snr[s][f] = SignalToNoise.calcSNR_sed(seds[s], lsst_total[f], darksky, lsst_system[f], \n",
    "                                              photParams, FWHMeff=FWHMeff, verbose=False)\n",
    "_printSNR(snr)"
   ]
  },
  {
   "cell_type": "code",
   "execution_count": 38,
   "metadata": {
    "collapsed": false
   },
   "outputs": [
    {
     "name": "stdout",
     "output_type": "stream",
     "text": [
      "SED\t\t\t\t   u      g      r      i      z      y   \n",
      "m3.0Full.dat\t\t\t 0.09  1.64  3.31  6.37  6.03  3.04 \n",
      "km10_4500.fits_g45\t\t 0.18  2.60  3.32  2.77  1.80  0.83 \n",
      "quasar.dat\t\t\t 0.23  2.93  3.32  2.34  1.42  0.57 \n",
      "km10_7250.fits_g45\t\t 1.03  4.98  3.32  2.03  1.08  0.44 \n",
      "km10_6500.fits_g45\t\t 0.89  4.42  3.32  2.18  1.21  0.50 \n",
      "Sa_template_norm.sed.dat\t 0.26  2.85  3.32  2.84  2.10  1.08 \n",
      "Ell2_template_norm.sed.dat\t 0.44  3.53  3.32  2.49  1.62  0.76 \n",
      "km10_5250.fits_g45\t\t 0.43  3.38  3.32  2.47  1.49  0.65 \n",
      "Sdm_template_norm.sed0.dat\t 0.68  3.83  3.32  2.55  1.76  0.87 \n",
      "km10_6000.fits_g45\t\t 0.74  4.02  3.32  2.28  1.31  0.55 \n"
     ]
    }
   ],
   "source": [
    "# Vary the seeing (with this new sky background)\n",
    "photParams = PhotometricParameters()\n",
    "seeing = 1.2\n",
    "FWHMeff = SignalToNoise.FWHMgeom2FWHMeff(seeing)\n",
    "snr = {}\n",
    "for s in seds:\n",
    "    snr[s] = {}\n",
    "    for f in filterlist:\n",
    "        snr[s][f] = SignalToNoise.calcSNR_sed(seds[s], lsst_total[f], darksky, lsst_system[f], \n",
    "                                              photParams, FWHMeff=FWHMeff, verbose=False)\n",
    "_printSNR(snr)"
   ]
  },
  {
   "cell_type": "code",
   "execution_count": 42,
   "metadata": {
    "collapsed": false
   },
   "outputs": [
    {
     "name": "stdout",
     "output_type": "stream",
     "text": [
      "10.0\n",
      "SED\t\t\t\t   u      g      r      i      z      y   \n",
      "m3.0Full.dat\t\t\t 0.04  1.20  2.75  5.53  5.46  2.80 \n",
      "km10_4500.fits_g45\t\t 0.08  1.90  2.75  2.40  1.63  0.76 \n",
      "quasar.dat\t\t\t 0.11  2.15  2.76  2.03  1.29  0.52 \n",
      "km10_7250.fits_g45\t\t 0.47  3.65  2.76  1.76  0.98  0.40 \n",
      "km10_6500.fits_g45\t\t 0.41  3.23  2.76  1.89  1.10  0.46 \n",
      "Sa_template_norm.sed.dat\t 0.12  2.08  2.76  2.46  1.90  0.99 \n",
      "Ell2_template_norm.sed.dat\t 0.20  2.58  2.76  2.16  1.46  0.70 \n",
      "km10_5250.fits_g45\t\t 0.20  2.48  2.76  2.14  1.35  0.60 \n",
      "Sdm_template_norm.sed0.dat\t 0.31  2.81  2.76  2.21  1.59  0.80 \n",
      "km10_6000.fits_g45\t\t 0.34  2.94  2.76  1.98  1.19  0.51 \n"
     ]
    }
   ],
   "source": [
    "# Or vary the readnoise (for example) -- notice biggest effect in u band\n",
    "old_readnoise = photParams.readnoise\n",
    "print old_readnoise\n",
    "photParams = PhotometricParameters(readnoise=old_readnoise*2)\n",
    "seeing = 1.2\n",
    "FWHMeff = SignalToNoise.FWHMgeom2FWHMeff(seeing)\n",
    "snr = {}\n",
    "for s in seds:\n",
    "    snr[s] = {}\n",
    "    for f in filterlist:\n",
    "        snr[s][f] = SignalToNoise.calcSNR_sed(seds[s], lsst_total[f], darksky, lsst_system[f], \n",
    "                                              photParams, FWHMeff=FWHMeff, verbose=False)\n",
    "_printSNR(snr)"
   ]
  },
  {
   "cell_type": "code",
   "execution_count": null,
   "metadata": {
    "collapsed": true
   },
   "outputs": [],
   "source": []
  }
 ],
 "metadata": {
  "kernelspec": {
   "display_name": "Python 2",
   "language": "python",
   "name": "python2"
  },
  "language_info": {
   "codemirror_mode": {
    "name": "ipython",
    "version": 2
   },
   "file_extension": ".py",
   "mimetype": "text/x-python",
   "name": "python",
   "nbconvert_exporter": "python",
   "pygments_lexer": "ipython2",
   "version": "2.7.11"
  }
 },
 "nbformat": 4,
 "nbformat_minor": 0
}
